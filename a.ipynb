{
 "cells": [
  {
   "cell_type": "code",
   "execution_count": null,
   "metadata": {
    "vscode": {
     "languageId": "plaintext"
    }
   },
   "outputs": [],
   "source": [
    "from fractions import Fraction\n",
    "import numpy as np"
   ]
  },
  {
   "cell_type": "markdown",
   "metadata": {},
   "source": [
    "# Gaussian Elimination to Reduced Row Echelon Form with Fractional Output\n",
    "\n",
    "\n",
    "This notebook demonstrates the Gaussian elimination process to reduce a matrix to RREF, which then allows for an easy back substitution to solve for each variable.\n",
    "\n",
    "\n",
    "# Input the matrix (example) with fractions"
   ]
  }
 ],
 "metadata": {
  "language_info": {
   "name": "python"
  }
 },
 "nbformat": 4,
 "nbformat_minor": 2
}
