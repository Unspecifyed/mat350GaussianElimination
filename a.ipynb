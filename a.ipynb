{
 "cells": [
  {
   "cell_type": "markdown",
   "metadata": {},
   "source": [
    "# Gaussian Elimination \n",
    "\n",
    "\n",
    "This notebook demonstrates the Gaussian elimination process to reduce a matrix to RREF, which then allows for an easy back substitution to solve for each variable.\n",
    "\n",
    "\n",
    "## Input the matrix (example) with fractions"
   ]
  },
  {
   "cell_type": "code",
   "execution_count": 4,
   "metadata": {},
   "outputs": [],
   "source": [
    "from fractions import Fraction\n",
    "import numpy as np\n",
    "\n",
    "A = np.array([[Fraction(1), Fraction(-1), Fraction(3)],\n",
    "              [Fraction(-1), Fraction(2), Fraction(3)],\n",
    "              [Fraction(2), Fraction(-2), Fraction(-5)]], dtype=object)"
   ]
  },
  {
   "cell_type": "markdown",
   "metadata": {},
   "source": [
    "\n",
    "## Right-hand side vector as fractions"
   ]
  },
  {
   "cell_type": "code",
   "execution_count": 5,
   "metadata": {},
   "outputs": [],
   "source": [
    "b = np.array([Fraction(4), Fraction(-6), Fraction(7)], dtype=object)"
   ]
  },
  {
   "cell_type": "markdown",
   "metadata": {},
   "source": [
    "## Display initial matrix and vector"
   ]
  },
  {
   "cell_type": "code",
   "execution_count": 6,
   "metadata": {},
   "outputs": [
    {
     "name": "stdout",
     "output_type": "stream",
     "text": [
      "Initial Matrix A:\n",
      "[[Fraction(1, 1) Fraction(-1, 1) Fraction(3, 1)]\n",
      " [Fraction(-1, 1) Fraction(2, 1) Fraction(3, 1)]\n",
      " [Fraction(2, 1) Fraction(-2, 1) Fraction(-5, 1)]]\n",
      "\n",
      "Initial Right-hand side vector b:\n",
      "[Fraction(4, 1) Fraction(-6, 1) Fraction(7, 1)]\n"
     ]
    }
   ],
   "source": [
    "print(\"Initial Matrix A:\")\n",
    "print(A)\n",
    "print(\"\\nInitial Right-hand side vector b:\")\n",
    "print(b)"
   ]
  },
  {
   "cell_type": "markdown",
   "metadata": {},
   "source": [
    "## Step 1: Transform the matrix to Reduced Row Echelon Form (RREF)"
   ]
  },
  {
   "cell_type": "code",
   "execution_count": 7,
   "metadata": {},
   "outputs": [
    {
     "name": "stdout",
     "output_type": "stream",
     "text": [
      "After processing row 3:\n",
      "Matrix A:\n",
      "[[Fraction(1, 1) Fraction(0, 1) Fraction(0, 1)]\n",
      " [Fraction(0, 1) Fraction(1, 1) Fraction(0, 1)]\n",
      " [Fraction(0, 1) Fraction(0, 1) Fraction(1, 1)]]\n",
      "Vector b:\n",
      "[Fraction(13, 11) Fraction(-28, 11) Fraction(1, 11)]\n",
      "\n",
      "\n"
     ]
    }
   ],
   "source": [
    "def gaussian_elimination_rref(A, b):\n",
    "    n = len(b)\n",
    "    for i in range(n):\n",
    "        # Make the diagonal element 1 by dividing the row by A[i][i]\n",
    "        divisor = A[i][i]\n",
    "        A[i] = A[i] / divisor\n",
    "        b[i] = b[i] / divisor\n",
    "        \n",
    "        # Make all elements in the current column (except the pivot) zero\n",
    "        for j in range(n):\n",
    "            if i != j:\n",
    "                factor = A[j][i]\n",
    "                A[j] = A[j] - factor * A[i]\n",
    "                b[j] = b[j] - factor * b[i]\n",
    "\t# Display matrix and vector after each row operation for clarity\n",
    "    print(f\"After processing row {i + 1}:\")\n",
    "    print(\"Matrix A:\")\n",
    "    print(A)\n",
    "    print(\"Vector b:\")\n",
    "    print(b)\n",
    "    print(\"\\n\")\n",
    "    \n",
    "    return A, b\n",
    "\n",
    "A, b = gaussian_elimination_rref(A, b)"
   ]
  }
 ],
 "metadata": {
  "kernelspec": {
   "display_name": "Python 3",
   "language": "python",
   "name": "python3"
  },
  "language_info": {
   "codemirror_mode": {
    "name": "ipython",
    "version": 3
   },
   "file_extension": ".py",
   "mimetype": "text/x-python",
   "name": "python",
   "nbconvert_exporter": "python",
   "pygments_lexer": "ipython3",
   "version": "3.12.7"
  }
 },
 "nbformat": 4,
 "nbformat_minor": 2
}
