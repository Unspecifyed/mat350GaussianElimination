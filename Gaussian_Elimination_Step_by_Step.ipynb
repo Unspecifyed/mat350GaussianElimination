{
 "cells": [
  {
   "cell_type": "markdown",
   "id": "88d7f5d0",
   "metadata": {},
   "source": [
    "# Gaussian Elimination Step-by-Step\n",
    "\n",
    "This notebook demonstrates the Gaussian elimination process step-by-step. Gaussian elimination is a method for solving linear systems by transforming a matrix into an upper triangular form and then performing back substitution to solve for each variable.\n",
    "\n",
    "### Steps Covered:\n",
    "1. **Matrix Input**: Define the matrix and the right-hand side vector.\n",
    "2. **Forward Elimination**: Transform the matrix to an upper triangular form by making elements below the pivot zero.\n",
    "3. **Back Substitution**: Solve for each variable starting from the last row.\n",
    "\n",
    "You can input your own matrix and right-hand side vector in the following cells.\n"
   ]
  },
  {
   "cell_type": "code",
   "execution_count": null,
   "id": "4acf5f6b",
   "metadata": {},
   "outputs": [],
   "source": [
    "import numpy as np\n",
    "\n",
    "# Input the matrix (example)\n",
    "A = np.array([[2.0, 1.0, -1.0],\n",
    "              [-3.0, -1.0, 2.0],\n",
    "              [-2.0, 1.0, 2.0]])\n",
    "\n",
    "# Right-hand side vector\n",
    "b = np.array([8.0, -11.0, -3.0])\n",
    "\n",
    "# Display matrix and vector\n",
    "print(\"Matrix A:\")\n",
    "print(A)\n",
    "print(\"\\nRight-hand side vector b:\")\n",
    "print(b)\n"
   ]
  },
  {
   "cell_type": "markdown",
   "id": "20c78314",
   "metadata": {},
   "source": [
    "## Step 1: Forward Elimination\n",
    "\n",
    "This function performs forward elimination to convert the matrix into an upper triangular form.\n"
   ]
  },
  {
   "cell_type": "code",
   "execution_count": null,
   "id": "2257ace8",
   "metadata": {},
   "outputs": [],
   "source": [
    "def forward_elimination(A, b):\n",
    "    n = len(b)\n",
    "    for i in range(n):\n",
    "        # Pivot: find the maximum element in the current column\n",
    "        max_row = i + np.argmax(abs(A[i:, i]))\n",
    "        # Swap the current row with the max row if needed\n",
    "        if i != max_row:\n",
    "            A[[i, max_row]] = A[[max_row, i]]\n",
    "            b[[i, max_row]] = b[[max_row, i]]\n",
    "        # Make the elements below the pivot zero\n",
    "        for j in range(i + 1, n):\n",
    "            factor = A[j][i] / A[i][i]\n",
    "            A[j] = A[j] - factor * A[i]\n",
    "            b[j] = b[j] - factor * b[i]\n",
    "        # Display step\n",
    "        print(f\"Step {i + 1} - After eliminating column {i}:\")\n",
    "        print(\"Matrix A:\")\n",
    "        print(A)\n",
    "        print(\"Vector b:\")\n",
    "        print(b)\n",
    "        print(\"\\n\")\n",
    "    return A, b\n",
    "\n",
    "# Perform forward elimination\n",
    "A, b = forward_elimination(A, b)\n"
   ]
  },
  {
   "cell_type": "markdown",
   "id": "b342f283",
   "metadata": {},
   "source": [
    "## Step 2: Back Substitution\n",
    "\n",
    "After obtaining an upper triangular matrix, we can now use back substitution to solve for each variable.\n"
   ]
  },
  {
   "cell_type": "code",
   "execution_count": null,
   "id": "dcf825f2",
   "metadata": {},
   "outputs": [],
   "source": [
    "def back_substitution(A, b):\n",
    "    n = len(b)\n",
    "    x = np.zeros(n)\n",
    "    for i in range(n - 1, -1, -1):\n",
    "        x[i] = (b[i] - np.dot(A[i, i + 1:], x[i + 1:])) / A[i, i]\n",
    "    return x\n",
    "\n",
    "# Perform back substitution\n",
    "x = back_substitution(A, b)\n",
    "print(\"Solution vector x:\")\n",
    "print(x)\n"
   ]
  }
 ],
 "metadata": {},
 "nbformat": 4,
 "nbformat_minor": 5
}
